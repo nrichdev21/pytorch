{
 "cells": [
  {
   "cell_type": "code",
   "execution_count": 16,
   "metadata": {},
   "outputs": [],
   "source": [
    "import torch\n",
    "import numpy as np\n",
    "import matplotlib.pyplot as plt\n",
    "\n",
    "import torch.nn as nn"
   ]
  },
  {
   "cell_type": "code",
   "execution_count": 7,
   "metadata": {},
   "outputs": [
    {
     "data": {
      "text/plain": [
       "tensor([[ 1.],\n",
       "        [ 2.],\n",
       "        [ 3.],\n",
       "        [ 4.],\n",
       "        [ 5.],\n",
       "        [ 6.],\n",
       "        [ 7.],\n",
       "        [ 8.],\n",
       "        [ 9.],\n",
       "        [10.],\n",
       "        [11.],\n",
       "        [12.],\n",
       "        [13.],\n",
       "        [14.],\n",
       "        [15.],\n",
       "        [16.],\n",
       "        [17.],\n",
       "        [18.],\n",
       "        [19.],\n",
       "        [20.],\n",
       "        [21.],\n",
       "        [22.],\n",
       "        [23.],\n",
       "        [24.],\n",
       "        [25.],\n",
       "        [26.],\n",
       "        [27.],\n",
       "        [28.],\n",
       "        [29.],\n",
       "        [30.],\n",
       "        [31.],\n",
       "        [32.],\n",
       "        [33.],\n",
       "        [34.],\n",
       "        [35.],\n",
       "        [36.],\n",
       "        [37.],\n",
       "        [38.],\n",
       "        [39.],\n",
       "        [40.],\n",
       "        [41.],\n",
       "        [42.],\n",
       "        [43.],\n",
       "        [44.],\n",
       "        [45.],\n",
       "        [46.],\n",
       "        [47.],\n",
       "        [48.],\n",
       "        [49.],\n",
       "        [50.]])"
      ]
     },
     "execution_count": 7,
     "metadata": {},
     "output_type": "execute_result"
    }
   ],
   "source": [
    "X = torch.linspace(1,50,50).reshape(-1,1)\n",
    "X"
   ]
  },
  {
   "cell_type": "code",
   "execution_count": 11,
   "metadata": {},
   "outputs": [
    {
     "data": {
      "text/plain": [
       "tensor([[ 2.],\n",
       "        [ 7.],\n",
       "        [ 2.],\n",
       "        [ 6.],\n",
       "        [ 2.],\n",
       "        [-4.],\n",
       "        [ 2.],\n",
       "        [-5.],\n",
       "        [ 4.],\n",
       "        [ 1.],\n",
       "        [ 2.],\n",
       "        [ 3.],\n",
       "        [ 1.],\n",
       "        [-8.],\n",
       "        [ 5.],\n",
       "        [ 5.],\n",
       "        [-6.],\n",
       "        [ 0.],\n",
       "        [-7.],\n",
       "        [-8.],\n",
       "        [-3.],\n",
       "        [-1.],\n",
       "        [ 2.],\n",
       "        [-6.],\n",
       "        [-3.],\n",
       "        [ 3.],\n",
       "        [ 2.],\n",
       "        [ 3.],\n",
       "        [ 4.],\n",
       "        [ 5.],\n",
       "        [ 1.],\n",
       "        [ 7.],\n",
       "        [ 6.],\n",
       "        [-1.],\n",
       "        [-6.],\n",
       "        [-5.],\n",
       "        [-3.],\n",
       "        [ 7.],\n",
       "        [ 0.],\n",
       "        [ 8.],\n",
       "        [-1.],\n",
       "        [-2.],\n",
       "        [ 2.],\n",
       "        [-8.],\n",
       "        [-1.],\n",
       "        [ 6.],\n",
       "        [-8.],\n",
       "        [-3.],\n",
       "        [-7.],\n",
       "        [-2.]])"
      ]
     },
     "execution_count": 11,
     "metadata": {},
     "output_type": "execute_result"
    }
   ],
   "source": [
    "torch.manual_seed(71)\n",
    "e = torch.randint(-8,9,(50,1), dtype=torch.float)\n",
    "e"
   ]
  },
  {
   "cell_type": "code",
   "execution_count": 12,
   "metadata": {},
   "outputs": [
    {
     "data": {
      "text/plain": [
       "torch.Size([50, 1])"
      ]
     },
     "execution_count": 12,
     "metadata": {},
     "output_type": "execute_result"
    }
   ],
   "source": [
    "y = 2*X + 1 + e\n",
    "y.shape"
   ]
  },
  {
   "cell_type": "code",
   "execution_count": 14,
   "metadata": {},
   "outputs": [
    {
     "data": {
      "text/plain": [
       "<matplotlib.collections.PathCollection at 0x21be70b8da0>"
      ]
     },
     "execution_count": 14,
     "metadata": {},
     "output_type": "execute_result"
    },
    {
     "data": {
      "image/png": "[encoded data removed]",
      "text/plain": [
       "<Figure size 432x288 with 1 Axes>"
      ]
     },
     "metadata": {
      "needs_background": "light"
     },
     "output_type": "display_data"
    }
   ],
   "source": [
    "# For plotting have you to convert back to np array\n",
    "plt.scatter(X.numpy(),y.numpy())"
   ]
  },
  {
   "cell_type": "code",
   "execution_count": 18,
   "metadata": {},
   "outputs": [
    {
     "name": "stdout",
     "output_type": "stream",
     "text": [
      "Parameter containing:\n",
      "tensor([[0.1060]], requires_grad=True)\n",
      "Parameter containing:\n",
      "tensor([0.9638], requires_grad=True)\n"
     ]
    }
   ],
   "source": [
    "torch.manual_seed(59)\n",
    "\n",
    "model = nn.Linear(in_features=1,out_features=1)\n",
    "\n",
    "print(model.weight)\n",
    "print(model.bias)"
   ]
  },
  {
   "cell_type": "code",
   "execution_count": 20,
   "metadata": {},
   "outputs": [],
   "source": [
    "class Model(nn.Module):\n",
    "    \n",
    "    def __init__(self, in_features, out_features):\n",
    "        \n",
    "        super().__init__()    ## Inherits everything from the nn.Module class\n",
    "        self.linear = nn.Linear(in_features, out_features)\n",
    "    \n",
    "    def forward(self,x):\n",
    "        y_pred = self.linear(x)\n",
    "        return y_pred"
   ]
  },
  {
   "cell_type": "code",
   "execution_count": 22,
   "metadata": {},
   "outputs": [
    {
     "name": "stdout",
     "output_type": "stream",
     "text": [
      "Parameter containing:\n",
      "tensor([[0.1060]], requires_grad=True)\n",
      "Parameter containing:\n",
      "tensor([0.9638], requires_grad=True)\n"
     ]
    }
   ],
   "source": [
    "torch.manual_seed(59)\n",
    "\n",
    "model = Model(1,1)\n",
    "\n",
    "print(model.linear.weight)\n",
    "print(model.linear.bias)"
   ]
  },
  {
   "cell_type": "code",
   "execution_count": 24,
   "metadata": {},
   "outputs": [
    {
     "name": "stdout",
     "output_type": "stream",
     "text": [
      "linear.weight \t 0.10597813129425049\n",
      "linear.bias \t 0.9637961387634277\n"
     ]
    }
   ],
   "source": [
    "for name, param in model.named_parameters():\n",
    "    print(name, '\\t' ,param.item())    "
   ]
  },
  {
   "cell_type": "code",
   "execution_count": 26,
   "metadata": {},
   "outputs": [
    {
     "name": "stdout",
     "output_type": "stream",
     "text": [
      "tensor([1.1758], grad_fn=<AddBackward0>)\n"
     ]
    }
   ],
   "source": [
    "x = torch.tensor([2.0])\n",
    "print(model.forward(x))"
   ]
  },
  {
   "cell_type": "code",
   "execution_count": 28,
   "metadata": {},
   "outputs": [
    {
     "data": {
      "text/plain": [
       "array([ 0.        ,  1.02040816,  2.04081633,  3.06122449,  4.08163265,\n",
       "        5.10204082,  6.12244898,  7.14285714,  8.16326531,  9.18367347,\n",
       "       10.20408163, 11.2244898 , 12.24489796, 13.26530612, 14.28571429,\n",
       "       15.30612245, 16.32653061, 17.34693878, 18.36734694, 19.3877551 ,\n",
       "       20.40816327, 21.42857143, 22.44897959, 23.46938776, 24.48979592,\n",
       "       25.51020408, 26.53061224, 27.55102041, 28.57142857, 29.59183673,\n",
       "       30.6122449 , 31.63265306, 32.65306122, 33.67346939, 34.69387755,\n",
       "       35.71428571, 36.73469388, 37.75510204, 38.7755102 , 39.79591837,\n",
       "       40.81632653, 41.83673469, 42.85714286, 43.87755102, 44.89795918,\n",
       "       45.91836735, 46.93877551, 47.95918367, 48.97959184, 50.        ])"
      ]
     },
     "execution_count": 28,
     "metadata": {},
     "output_type": "execute_result"
    }
   ],
   "source": [
    "x1 = np.linspace(0.0, 50.0, 50)\n",
    "x1"
   ]
  },
  {
   "cell_type": "code",
   "execution_count": 31,
   "metadata": {},
   "outputs": [
    {
     "data": {
      "text/plain": [
       "array([0.9637    , 1.07176122, 1.17982245, 1.28788367, 1.3959449 ,\n",
       "       1.50400612, 1.61206735, 1.72012857, 1.8281898 , 1.93625102,\n",
       "       2.04431224, 2.15237347, 2.26043469, 2.36849592, 2.47655714,\n",
       "       2.58461837, 2.69267959, 2.80074082, 2.90880204, 3.01686327,\n",
       "       3.12492449, 3.23298571, 3.34104694, 3.44910816, 3.55716939,\n",
       "       3.66523061, 3.77329184, 3.88135306, 3.98941429, 4.09747551,\n",
       "       4.20553673, 4.31359796, 4.42165918, 4.52972041, 4.63778163,\n",
       "       4.74584286, 4.85390408, 4.96196531, 5.07002653, 5.17808776,\n",
       "       5.28614898, 5.3942102 , 5.50227143, 5.61033265, 5.71839388,\n",
       "       5.8264551 , 5.93451633, 6.04257755, 6.15063878, 6.2587    ])"
      ]
     },
     "execution_count": 31,
     "metadata": {},
     "output_type": "execute_result"
    }
   ],
   "source": [
    "w1 = 0.1059\n",
    "b1 = 0.9637\n",
    "\n",
    "y1 = w1*x1 + b1\n",
    "y1"
   ]
  },
  {
   "cell_type": "code",
   "execution_count": 35,
   "metadata": {},
   "outputs": [
    {
     "data": {
      "text/plain": [
       "[<matplotlib.lines.Line2D at 0x21be97ab710>]"
      ]
     },
     "execution_count": 35,
     "metadata": {},
     "output_type": "execute_result"
    },
    {
     "data": {
      "image/png": "[encoded data removed]",
      "text/plain": [
       "<Figure size 432x288 with 1 Axes>"
      ]
     },
     "metadata": {
      "needs_background": "light"
     },
     "output_type": "display_data"
    }
   ],
   "source": [
    "plt.scatter(X.numpy(), y.numpy())\n",
    "plt.plot(x1, y1,'r')"
   ]
  },
  {
   "cell_type": "code",
   "execution_count": 39,
   "metadata": {},
   "outputs": [
    {
     "data": {
      "text/plain": [
       "MSELoss()"
      ]
     },
     "execution_count": 39,
     "metadata": {},
     "output_type": "execute_result"
    }
   ],
   "source": [
    "criterion = nn.MSELoss()\n",
    "criterion"
   ]
  },
  {
   "cell_type": "code",
   "execution_count": 40,
   "metadata": {},
   "outputs": [
    {
     "data": {
      "text/plain": [
       "SGD (\n",
       "Parameter Group 0\n",
       "    dampening: 0\n",
       "    lr: 0.001\n",
       "    momentum: 0\n",
       "    nesterov: False\n",
       "    weight_decay: 0\n",
       ")"
      ]
     },
     "execution_count": 40,
     "metadata": {},
     "output_type": "execute_result"
    }
   ],
   "source": [
    "optimizer = torch.optim.SGD(model.parameters(),lr=0.001)\n",
    "optimizer"
   ]
  },
  {
   "cell_type": "code",
   "execution_count": 44,
   "metadata": {},
   "outputs": [
    {
     "name": "stdout",
     "output_type": "stream",
     "text": [
      "Epoch 1 Loss: 3057.216796875 Weight: 0.10597813129425049 Bias: 0.9637961387634277\n",
      "Epoch 2 Loss: 1588.531005859375 Weight: 3.334900379180908 Bias: 1.0604636669158936\n",
      "Epoch 3 Loss: 830.3001098632812 Weight: 1.0148327350616455 Bias: 0.9922627806663513\n",
      "Epoch 4 Loss: 438.8524169921875 Weight: 2.6817996501922607 Bias: 1.0425218343734741\n",
      "Epoch 5 Loss: 236.7615203857422 Weight: 1.4840211868286133 Bias: 1.0076650381088257\n",
      "Epoch 6 Loss: 132.4291229248047 Weight: 2.3446059226989746 Bias: 1.0339646339416504\n",
      "Epoch 7 Loss: 78.56572723388672 Weight: 1.7262253761291504 Bias: 1.0163217782974243\n",
      "Epoch 8 Loss: 50.75775909423828 Weight: 2.170504093170166 Bias: 1.0302516222000122\n",
      "Epoch 9 Loss: 36.4012336730957 Weight: 1.8512457609176636 Bias: 1.0214954614639282\n",
      "Epoch 10 Loss: 28.989227294921875 Weight: 2.0806007385253906 Bias: 1.029038906097412\n",
      "Epoch 11 Loss: 25.162382125854492 Weight: 1.9157683849334717 Bias: 1.0248701572418213\n",
      "Epoch 12 Loss: 23.186473846435547 Weight: 2.034165620803833 Bias: 1.0291162729263306\n",
      "Epoch 13 Loss: 22.166128158569336 Weight: 1.9490584135055542 Bias: 1.027315616607666\n",
      "Epoch 14 Loss: 21.639110565185547 Weight: 2.010172128677368 Bias: 1.0298590660095215\n",
      "Epoch 15 Loss: 21.366771697998047 Weight: 1.9662237167358398 Bias: 1.0292805433273315\n",
      "Epoch 16 Loss: 21.22591781616211 Weight: 1.997764229774475 Bias: 1.030944585800171\n",
      "Epoch 17 Loss: 21.15294647216797 Weight: 1.9750648736953735 Bias: 1.0309966802597046\n",
      "Epoch 18 Loss: 21.11501121520996 Weight: 1.991337537765503 Bias: 1.032206416130066\n",
      "Epoch 19 Loss: 21.095176696777344 Weight: 1.9796085357666016 Bias: 1.0325838327407837\n",
      "Epoch 20 Loss: 21.084684371948242 Weight: 1.9879988431930542 Bias: 1.0335586071014404\n",
      "Epoch 21 Loss: 21.07901382446289 Weight: 1.981933355331421 Bias: 1.034103512763977\n",
      "Epoch 22 Loss: 21.075830459594727 Weight: 1.9862544536590576 Bias: 1.034956693649292\n",
      "Epoch 23 Loss: 21.073938369750977 Weight: 1.9831126928329468 Bias: 1.0355877876281738\n",
      "Epoch 24 Loss: 21.07269859313965 Weight: 1.9853330850601196 Bias: 1.0363779067993164\n",
      "Epoch 25 Loss: 21.071819305419922 Weight: 1.9837009906768799 Bias: 1.037053108215332\n",
      "Epoch 26 Loss: 21.07110595703125 Weight: 1.9848365783691406 Bias: 1.037810206413269\n",
      "Epoch 27 Loss: 21.070484161376953 Weight: 1.9839837551116943 Bias: 1.0385079383850098\n",
      "Epoch 28 Loss: 21.069913864135742 Weight: 1.9845597743988037 Bias: 1.039247751235962\n",
      "Epoch 29 Loss: 21.069366455078125 Weight: 1.9841090440750122 Bias: 1.0399566888809204\n",
      "Epoch 30 Loss: 21.068836212158203 Weight: 1.9843961000442505 Bias: 1.0406872034072876\n",
      "Epoch 31 Loss: 21.068307876586914 Weight: 1.984152913093567 Bias: 1.0414016246795654\n",
      "Epoch 32 Loss: 21.067781448364258 Weight: 1.9842908382415771 Bias: 1.042127013206482\n",
      "Epoch 33 Loss: 21.067262649536133 Weight: 1.9841549396514893 Bias: 1.0428439378738403\n",
      "Epoch 34 Loss: 21.066740036010742 Weight: 1.9842157363891602 Bias: 1.043566346168518\n",
      "Epoch 35 Loss: 21.06622314453125 Weight: 1.9841355085372925 Bias: 1.0442842245101929\n",
      "Epoch 36 Loss: 21.065706253051758 Weight: 1.9841564893722534 Bias: 1.0450047254562378\n",
      "Epoch 37 Loss: 21.065189361572266 Weight: 1.9841045141220093 Bias: 1.0457227230072021\n",
      "Epoch 38 Loss: 21.064668655395508 Weight: 1.9841052293777466 Bias: 1.046441912651062\n",
      "Epoch 39 Loss: 21.064157485961914 Weight: 1.9840680360794067 Bias: 1.0471596717834473\n",
      "Epoch 40 Loss: 21.06363868713379 Weight: 1.984058141708374 Bias: 1.0478779077529907\n",
      "Epoch 41 Loss: 21.06312370300293 Weight: 1.984028697013855 Bias: 1.0485951900482178\n",
      "Epoch 42 Loss: 21.062606811523438 Weight: 1.9840131998062134 Bias: 1.0493125915527344\n",
      "Epoch 43 Loss: 21.062095642089844 Weight: 1.98398756980896 Bias: 1.0500292778015137\n",
      "Epoch 44 Loss: 21.06157875061035 Weight: 1.9839695692062378 Bias: 1.0507458448410034\n",
      "Epoch 45 Loss: 21.06106948852539 Weight: 1.9839458465576172 Bias: 1.051461935043335\n",
      "Epoch 46 Loss: 21.06055450439453 Weight: 1.9839262962341309 Bias: 1.0521777868270874\n",
      "Epoch 47 Loss: 21.060041427612305 Weight: 1.9839037656784058 Bias: 1.0528931617736816\n",
      "Epoch 48 Loss: 21.059532165527344 Weight: 1.9838833808898926 Bias: 1.0536082983016968\n",
      "Epoch 49 Loss: 21.05901527404785 Weight: 1.9838614463806152 Bias: 1.0543230772018433\n",
      "Epoch 50 Loss: 21.058509826660156 Weight: 1.9838409423828125 Bias: 1.055037498474121\n"
     ]
    }
   ],
   "source": [
    "# Epoch is single pass through entire dataset\n",
    "epochs = 50\n",
    "losses = []\n",
    "\n",
    "for i in range(epochs):\n",
    "    \n",
    "    i += 1\n",
    "    \n",
    "    # PREDICTING ON FORWARD PASS\n",
    "    y_pred = model.forward(X)\n",
    "    \n",
    "    # CALCULATE THE ERROR\n",
    "    loss = criterion(y_pred, y)\n",
    "    \n",
    "    # RECORD THE ERROR\n",
    "    losses.append(loss)\n",
    "    \n",
    "    print(f\"Epoch {i} Loss: {loss.item()} Weight: {model.linear.weight.item()} Bias: {model.linear.bias.item()}\")\n",
    "    \n",
    "    # CLEARS THE GRADIENT OF OPTIMIZED VALUE\n",
    "    optimizer.zero_grad()\n",
    "    \n",
    "    # COMPUTE GRADIENT\n",
    "    loss.backward()\n",
    "    \n",
    "    # PERFORMS 1 OPTIMIZATION STEP\n",
    "    optimizer.step()"
   ]
  },
  {
   "cell_type": "code",
   "execution_count": 49,
   "metadata": {},
   "outputs": [
    {
     "data": {
      "text/plain": [
       "Text(0.5, 0, 'EPOCH')"
      ]
     },
     "execution_count": 49,
     "metadata": {},
     "output_type": "execute_result"
    },
    {
     "data": {
      "image/png": "[encoded data removed]",
      "text/plain": [
       "<Figure size 432x288 with 1 Axes>"
      ]
     },
     "metadata": {
      "needs_background": "light"
     },
     "output_type": "display_data"
    }
   ],
   "source": [
    "plt.plot(range(epochs), losses)\n",
    "plt.ylabel(\"MSE LOSS\")\n",
    "plt.xlabel(\"EPOCH\")"
   ]
  },
  {
   "cell_type": "code",
   "execution_count": 50,
   "metadata": {},
   "outputs": [],
   "source": [
    "x = np.linspace(0.0,50.0,50)\n",
    "current_weight = model.linear.weight.item()\n",
    "current_bias = model.linear.bias.item()\n",
    "\n",
    "predicted_y = current_weight*x + current_bias"
   ]
  },
  {
   "cell_type": "code",
   "execution_count": 55,
   "metadata": {},
   "outputs": [
    {
     "data": {
      "text/plain": [
       "[<matplotlib.lines.Line2D at 0x21be9959208>]"
      ]
     },
     "execution_count": 55,
     "metadata": {},
     "output_type": "execute_result"
    },
    {
     "data": {
      "image/png": "[encoded data removed]",
      "text/plain": [
       "<Figure size 432x288 with 1 Axes>"
      ]
     },
     "metadata": {
      "needs_background": "light"
     },
     "output_type": "display_data"
    }
   ],
   "source": [
    "plt.scatter(X.numpy(), y.numpy())\n",
    "plt.plot(x, predicted_y,'g')"
   ]
  },
  {
   "cell_type": "code",
   "execution_count": null,
   "metadata": {},
   "outputs": [],
   "source": []
  }
 ],
 "metadata": {
  "kernelspec": {
   "display_name": "Python 3",
   "language": "python",
   "name": "python3"
  },
  "language_info": {
   "codemirror_mode": {
    "name": "ipython",
    "version": 3
   },
   "file_extension": ".py",
   "mimetype": "text/x-python",
   "name": "python",
   "nbconvert_exporter": "python",
   "pygments_lexer": "ipython3",
   "version": "3.7.3"
  }
 },
 "nbformat": 4,
 "nbformat_minor": 4
}
